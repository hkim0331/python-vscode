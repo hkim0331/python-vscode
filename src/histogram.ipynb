{
 "cells": [
  {
   "cell_type": "markdown",
   "metadata": {},
   "source": [
    "# histogram, normal distribution"
   ]
  },
  {
   "cell_type": "code",
   "execution_count": 1,
   "metadata": {},
   "outputs": [],
   "source": [
    "import numpy as np\n",
    "import matplotlib.pyplot as plt"
   ]
  },
  {
   "cell_type": "code",
   "execution_count": 2,
   "metadata": {},
   "outputs": [
    {
     "data": {
      "text/plain": [
       "(20.085536923187668, 16, 1.4142135623730951, 3.141592653589793)"
      ]
     },
     "execution_count": 2,
     "metadata": {},
     "output_type": "execute_result"
    }
   ],
   "source": [
    "(np.exp(3), 4**2, np.sqrt(2), np.pi)"
   ]
  },
  {
   "cell_type": "code",
   "execution_count": 3,
   "metadata": {},
   "outputs": [],
   "source": [
    "def pdf(x,m,s):\n",
    "  return np.exp(-(x-m)**2/(2*s))/np.sqrt(2*np.pi*s)"
   ]
  },
  {
   "cell_type": "code",
   "execution_count": 4,
   "metadata": {},
   "outputs": [
    {
     "data": {
      "image/png": "[encoded data removed]",
      "text/plain": [
       "<Figure size 432x288 with 1 Axes>"
      ]
     },
     "metadata": {
      "needs_background": "light"
     },
     "output_type": "display_data"
    }
   ],
   "source": [
    "xs = np.linspace(-3,3,100)\n",
    "plt.plot(xs, list(map(lambda x: pdf(x, 0, 0.1), xs)))\n",
    "plt.show()"
   ]
  },
  {
   "cell_type": "code",
   "execution_count": null,
   "metadata": {},
   "outputs": [],
   "source": [
    "# fig = plt.figure()\n",
    "dist = np.random.normal(0, 1, 1000)\n",
    "plt.hist(dist, bins=20, density=1)\n",
    "xs = np.linspace(-4, 4, 100)\n",
    "plt.plot(xs, list(map(lambda x: pdf(x, 0, 1), xs)))\n",
    "plt.show()\n",
    "# fig.savefig(\"out.png\")"
   ]
  },
  {
   "cell_type": "markdown",
   "metadata": {},
   "source": [
    "赤の線の太さをもうちょっと太くできないか？太くするには？"
   ]
  },
  {
   "cell_type": "code",
   "execution_count": null,
   "metadata": {},
   "outputs": [],
   "source": [
    "# fig = plt.figure()\n",
    "dist = np.random.normal(0, 1, 1000)\n",
    "plt.hist(dist, bins=20, density=1)\n",
    "xs = np.linspace(-4, 4, 100)\n",
    "plt.plot(xs, list(map(lambda x: pdf(x, 0, 1), xs)),linewidth=5)\n",
    "plt.show()\n",
    "# fig.savefig(\"out.png\")"
   ]
  },
  {
   "cell_type": "markdown",
   "metadata": {},
   "source": [
    "イメージをファイルに書き出す。"
   ]
  },
  {
   "cell_type": "code",
   "execution_count": null,
   "metadata": {},
   "outputs": [],
   "source": [
    "fig = plt.figure('normal')\n",
    "dist = np.random.normal(0, 1, 1000)\n",
    "plt.hist(dist, bins=20, density=1)\n",
    "xs = np.linspace(-4, 4, 100)\n",
    "plt.plot(xs, list(map(lambda x: pdf(x, 0, 1), xs)),linewidth=5)\n",
    "plt.show()\n",
    "fig.savefig(\"out.png\")"
   ]
  }
 ],
 "metadata": {
  "interpreter": {
   "hash": "949777d72b0d2535278d3dc13498b2535136f6dfe0678499012e853ee9abcab1"
  },
  "kernelspec": {
   "display_name": "Python 3.10.2 64-bit",
   "language": "python",
   "name": "python3"
  },
  "language_info": {
   "codemirror_mode": {
    "name": "ipython",
    "version": 3
   },
   "file_extension": ".py",
   "mimetype": "text/x-python",
   "name": "python",
   "nbconvert_exporter": "python",
   "pygments_lexer": "ipython3",
   "version": "3.10.2"
  }
 },
 "nbformat": 4,
 "nbformat_minor": 2
}
